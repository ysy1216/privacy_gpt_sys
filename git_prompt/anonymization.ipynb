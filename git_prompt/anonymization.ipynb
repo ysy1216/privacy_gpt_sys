{
 "cells": [
  {
   "cell_type": "code",
   "execution_count": 5,
   "id": "b7bcc25e",
   "metadata": {
    "ExecuteTime": {
     "end_time": "2023-07-25T04:06:46.047294Z",
     "start_time": "2023-07-25T04:06:46.034511Z"
    }
   },
   "outputs": [],
   "source": [
    "import openai\n",
    "import torch\n",
    "#from transformers import GPT2Tokenizer, GPT2LMHeadModel"
   ]
  },
  {
   "cell_type": "code",
   "execution_count": 6,
   "id": "83461c81",
   "metadata": {
    "ExecuteTime": {
     "end_time": "2023-07-25T04:06:52.913032Z",
     "start_time": "2023-07-25T04:06:52.906319Z"
    }
   },
   "outputs": [],
   "source": [
    "openai.api_key = \"替换成你的api_key\""
   ]
  },
  {
   "cell_type": "code",
   "execution_count": 7,
   "id": "b46d12ee",
   "metadata": {
    "ExecuteTime": {
     "end_time": "2023-07-25T04:06:54.453602Z",
     "start_time": "2023-07-25T04:06:54.427770Z"
    },
    "code_folding": []
   },
   "outputs": [],
   "source": [
    "def get_completion(prompt, model=\"gpt-3.5-turbo\", temperature=0):\n",
    "    messages = [{\"role\": \"user\", \"content\": prompt}]\n",
    "    response = openai.ChatCompletion.create(\n",
    "        model=model,\n",
    "        messages=messages,\n",
    "        temperature=temperature,\n",
    "    )\n",
    "    return response.choices[0].message[\"content\"]"
   ]
  },
  {
   "cell_type": "code",
   "execution_count": 8,
   "id": "ff83a152",
   "metadata": {
    "ExecuteTime": {
     "end_time": "2023-07-25T04:06:55.988437Z",
     "start_time": "2023-07-25T04:06:55.981612Z"
    }
   },
   "outputs": [],
   "source": [
    "def mask_sensitive_info_with_openai(input_txt, prompt_text=\"脱敏后的文本: \"):\n",
    "    # 定义prompt指导模型生成脱敏文本\n",
    "    prompt = prompt_text + input_txt\n",
    "    \n",
    "    # 使用openai api调用语言模型生成脱敏文本\n",
    "    response = openai.Completion.create(\n",
    "        engine = \"text-davinci-002\",# 选择预训练的语言模型\n",
    "        prompt = prompt,\n",
    "        max_tokens = 50,\n",
    "        stop = None,\n",
    "        temperature = 0.7,\n",
    "    )\n",
    "    desensitized_text = response['choices'][0]['text'][len(prompt_text):].strip()\n",
    "    \n",
    "    return desensitized_text\n",
    "    "
   ]
  },
  {
   "cell_type": "code",
   "execution_count": 9,
   "id": "b0e0e88e",
   "metadata": {
    "ExecuteTime": {
     "end_time": "2023-07-25T04:06:59.308399Z",
     "start_time": "2023-07-25T04:06:59.302413Z"
    }
   },
   "outputs": [],
   "source": [
    "# input_text = \"这是一条敏感信息：手机号码为13812345678\"\n",
    "# prompt_text = \"脱敏后的文本：\"\n",
    "# desensitized_text = mask_sensitive_info_with_openai(input_text, prompt_text)\n",
    "# print(\"原始文本：\", input_text)\n",
    "# print(\"脱敏后文本：\", desensitized_text)"
   ]
  },
  {
   "cell_type": "markdown",
   "id": "ad3c95d8",
   "metadata": {},
   "source": [
    "prompt函数"
   ]
  },
  {
   "cell_type": "code",
   "execution_count": 26,
   "id": "a175576f",
   "metadata": {
    "ExecuteTime": {
     "end_time": "2023-07-25T05:11:50.113445Z",
     "start_time": "2023-07-25T05:11:50.107461Z"
    }
   },
   "outputs": [],
   "source": [
    "user_messages = [\n",
    "  #\"苏浅的身份证号是420101196304154082\",\n",
    "  \"龙之谷团队第一丽泽商务区建设在北京经济社会的发展中具有重要地位。\",  \n",
    "  #\"请妥善保管您的账户6222025244131129525，预留手机号码13112345678\"\n",
    "  \"歡迎音樂夥伴們共同音樂交流請將基本資料作品寄到這音樂交流專屬信箱我會盡快與你聯繫tompan@vip.126.com。\"       \n",
    "  #\"工作聯繫:爾傑國際娛樂（+886）2-2752-1874；電子信箱：arjay588@gmail.com，台灣女演員。\"                                                                                              \n",
    "]"
   ]
  },
  {
   "cell_type": "code",
   "execution_count": 28,
   "id": "55d0c31d",
   "metadata": {
    "ExecuteTime": {
     "end_time": "2023-07-25T05:13:40.866454Z",
     "start_time": "2023-07-25T05:12:49.984230Z"
    }
   },
   "outputs": [
    {
     "name": "stdout",
     "output_type": "stream",
     "text": [
      "原始文本 (不敏感): 龙之谷团队第一丽泽商务区建设在北京经济社会的发展中具有重要地位。\n",
      "\n",
      "龙之谷团队第一丽泽商务区建设在北京经济社会的发展中具有重要地位。 \n",
      "=========================================\n",
      "原始文本 (不敏感): 歡迎音樂夥伴們共同音樂交流請將基本資料作品寄到這音樂交流專屬信箱我會盡快與你聯繫tompan@vip.126.com。\n",
      "\n",
      "歡迎音樂夥伴們共同音樂交流請將基本資料作品寄到這音樂交流專屬信箱我會盡快與你聯繫t*********@v**.***.***.com。 \n",
      "=========================================\n"
     ]
    }
   ],
   "source": [
    "import time\n",
    "for issue in user_messages:\n",
    "    time.sleep(20)\n",
    "    #prompt = f\"请隐式一步一步思考，\\\n",
    "    #检测下面输入的文本中是否含有敏感信息，若无，不做任何处理直接输出输入文本内容；\\\n",
    "    #若有请把敏感信息的后一半字符用*替换，而其他一律不变作为新文本输出，且把这个过程视为脱敏处理，如果检测到输入文本是做过脱敏处理的，把*号还原: ```{issue}```\"\n",
    "    prompt = f\"告诉我以下文本是否含有敏感信息，若含有，则输出敏感，否则输出不敏感，无需输出标点符号: ```{issue}```\"\n",
    "    lang = get_completion(prompt)\n",
    "    print(f\"原始文本 ({lang}): {issue}\\n\")\n",
    "\n",
    "    prompt = f\"\"\"\n",
    "    如果检测到下面输入的文本中含有敏感信息，请把敏感信息的一半关键字符用*替换，而其他一律不变作为新文本输出，且把这个过程视为脱敏处理\n",
    "    ```{issue}```\n",
    "    \"\"\"\n",
    "    response = get_completion(prompt)\n",
    "    print(response, \"\\n=========================================\")"
   ]
  },
  {
   "cell_type": "code",
   "execution_count": 42,
   "id": "0261e1e2",
   "metadata": {
    "ExecuteTime": {
     "end_time": "2023-07-21T12:32:25.969681Z",
     "start_time": "2023-07-21T12:32:23.067724Z"
    }
   },
   "outputs": [
    {
     "name": "stdout",
     "output_type": "stream",
     "text": [
      "请妥善保管一内容手机号1381******78\n"
     ]
    }
   ],
   "source": [
    "prompt = f\"\"\"\n",
    "如果检测到下面输入的文本中含有敏感信息，请把敏感信息的后一半字符用*替换，而其他一律不变作为新文本输出，且把这个过程视为脱敏处理，如果检测到输入文本是做过脱敏处理的，把*号还原: \\\n",
    "```请妥善保管一内容手机号13812345678```\n",
    "\"\"\"\n",
    "response = get_completion(prompt)\n",
    "print(response)"
   ]
  },
  {
   "cell_type": "code",
   "execution_count": 43,
   "id": "037af0e0",
   "metadata": {
    "ExecuteTime": {
     "end_time": "2023-07-21T12:43:44.717154Z",
     "start_time": "2023-07-21T12:43:40.906942Z"
    }
   },
   "outputs": [
    {
     "name": "stdout",
     "output_type": "stream",
     "text": [
      "请致电13987******联系我们\n"
     ]
    }
   ],
   "source": [
    "prompt = f\"\"\"\n",
    "如果检测到下面输入的文本中含有敏感信息，请把敏感信息的后一半字符用*替换，而其他一律不变作为新文本输出，且把这个过程视为脱敏处理，如果检测到输入文本是做过脱敏处理的，把*号还原: \\\n",
    "```请致电13987654321联系我们```\n",
    "\"\"\"\n",
    "response = get_completion(prompt)\n",
    "print(response)"
   ]
  },
  {
   "cell_type": "code",
   "execution_count": 44,
   "id": "e879bdb7",
   "metadata": {
    "ExecuteTime": {
     "end_time": "2023-07-21T12:47:10.712849Z",
     "start_time": "2023-07-21T12:47:08.344587Z"
    }
   },
   "outputs": [
    {
     "name": "stdout",
     "output_type": "stream",
     "text": [
      "如有问题，请到上海市长宁区黄山路2*6号找到我们\n"
     ]
    }
   ],
   "source": [
    "prompt = f\"\"\"\n",
    "如果检测到下面输入的文本中含有敏感信息，请把敏感信息的后一半字符用*替换，而其他一律不变作为新文本输出，且把这个过程视为脱敏处理，如果检测到输入文本是做过脱敏处理的，把*号还原: \\\n",
    "```如有问题，请到上海市长宁区黄山路206号找到我们```\n",
    "\"\"\"\n",
    "response = get_completion(prompt)\n",
    "print(response)"
   ]
  }
 ],
 "metadata": {
  "kernelspec": {
   "display_name": "pgpt",
   "language": "python",
   "name": "pgpt"
  },
  "language_info": {
   "codemirror_mode": {
    "name": "ipython",
    "version": 3
   },
   "file_extension": ".py",
   "mimetype": "text/x-python",
   "name": "python",
   "nbconvert_exporter": "python",
   "pygments_lexer": "ipython3",
   "version": "3.10.6"
  }
 },
 "nbformat": 4,
 "nbformat_minor": 5
}
